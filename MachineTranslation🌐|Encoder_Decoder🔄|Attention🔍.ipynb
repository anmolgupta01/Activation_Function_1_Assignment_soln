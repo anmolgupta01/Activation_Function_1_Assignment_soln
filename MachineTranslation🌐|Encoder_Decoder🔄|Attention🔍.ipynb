{
  "metadata": {
    "kernelspec": {
      "language": "python",
      "display_name": "Python 3",
      "name": "python3"
    },
    "language_info": {
      "name": "python",
      "version": "3.10.13",
      "mimetype": "text/x-python",
      "codemirror_mode": {
        "name": "ipython",
        "version": 3
      },
      "pygments_lexer": "ipython3",
      "nbconvert_exporter": "python",
      "file_extension": ".py"
    },
    "kaggle": {
      "accelerator": "nvidiaTeslaT4",
      "dataSources": [
        {
          "sourceId": 4246862,
          "sourceType": "datasetVersion",
          "datasetId": 2502545
        }
      ],
      "dockerImageVersionId": 30732,
      "isInternetEnabled": true,
      "language": "python",
      "sourceType": "notebook",
      "isGpuEnabled": true
    },
    "colab": {
      "name": "MachineTranslation🌐|Encoder-Decoder🔄|Attention🔍",
      "provenance": [],
      "include_colab_link": true
    }
  },
  "nbformat_minor": 0,
  "nbformat": 4,
  "cells": [
    {
      "cell_type": "markdown",
      "metadata": {
        "id": "view-in-github",
        "colab_type": "text"
      },
      "source": [
        "<a href=\"https://colab.research.google.com/github/anmolgupta01/Activation_Function_1_Assignment_soln/blob/main/MachineTranslation%F0%9F%8C%90%7CEncoder_Decoder%F0%9F%94%84%7CAttention%F0%9F%94%8D.ipynb\" target=\"_parent\"><img src=\"https://colab.research.google.com/assets/colab-badge.svg\" alt=\"Open In Colab\"/></a>"
      ]
    },
    {
      "source": [
        "\n",
        "# IMPORTANT: RUN THIS CELL IN ORDER TO IMPORT YOUR KAGGLE DATA SOURCES\n",
        "# TO THE CORRECT LOCATION (/kaggle/input) IN YOUR NOTEBOOK,\n",
        "# THEN FEEL FREE TO DELETE THIS CELL.\n",
        "# NOTE: THIS NOTEBOOK ENVIRONMENT DIFFERS FROM KAGGLE'S PYTHON\n",
        "# ENVIRONMENT SO THERE MAY BE MISSING LIBRARIES USED BY YOUR\n",
        "# NOTEBOOK.\n",
        "\n",
        "import os\n",
        "import sys\n",
        "from tempfile import NamedTemporaryFile\n",
        "from urllib.request import urlopen\n",
        "from urllib.parse import unquote, urlparse\n",
        "from urllib.error import HTTPError\n",
        "from zipfile import ZipFile\n",
        "import tarfile\n",
        "import shutil\n",
        "\n",
        "CHUNK_SIZE = 40960\n",
        "DATA_SOURCE_MAPPING = 'english-hindi-dataset:https%3A%2F%2Fstorage.googleapis.com%2Fkaggle-data-sets%2F2502545%2F4246862%2Fbundle%2Farchive.zip%3FX-Goog-Algorithm%3DGOOG4-RSA-SHA256%26X-Goog-Credential%3Dgcp-kaggle-com%2540kaggle-161607.iam.gserviceaccount.com%252F20240930%252Fauto%252Fstorage%252Fgoog4_request%26X-Goog-Date%3D20240930T124729Z%26X-Goog-Expires%3D259200%26X-Goog-SignedHeaders%3Dhost%26X-Goog-Signature%3D79dbfc9d6fb97a8987d8475725814de6710a55f714a770ef608e3e9fce81a25fa8433f97ae489495f3ba8a28715ccb017663efc374d4eac81dd81ad13d9b718e494e8b456bab8a19da4251e2cc60e7bf6f3b0bd4523e9eca58b9037762d59048a3d471ce9567211d1f7dce71b832d01f47d664981c7f97ce83423370db30383f2bae03315345d513d072242f0a775159db362f3cbd5752d893d5bf8148ee85b957da59cbcee49f229e41282a4baa3a8d62fe4fb65e044ec326412993131cb025f255c55d0d9520cd20f8f3524b554ea0dcd5b73aeb74467d9877f6676d44d6ec8e74ea713bd46b3e6b34a8e0aece9f1549aad0266184710f4019c72816398467'\n",
        "\n",
        "KAGGLE_INPUT_PATH='/kaggle/input'\n",
        "KAGGLE_WORKING_PATH='/kaggle/working'\n",
        "KAGGLE_SYMLINK='kaggle'\n",
        "\n",
        "!umount /kaggle/input/ 2> /dev/null\n",
        "shutil.rmtree('/kaggle/input', ignore_errors=True)\n",
        "os.makedirs(KAGGLE_INPUT_PATH, 0o777, exist_ok=True)\n",
        "os.makedirs(KAGGLE_WORKING_PATH, 0o777, exist_ok=True)\n",
        "\n",
        "try:\n",
        "  os.symlink(KAGGLE_INPUT_PATH, os.path.join(\"..\", 'input'), target_is_directory=True)\n",
        "except FileExistsError:\n",
        "  pass\n",
        "try:\n",
        "  os.symlink(KAGGLE_WORKING_PATH, os.path.join(\"..\", 'working'), target_is_directory=True)\n",
        "except FileExistsError:\n",
        "  pass\n",
        "\n",
        "for data_source_mapping in DATA_SOURCE_MAPPING.split(','):\n",
        "    directory, download_url_encoded = data_source_mapping.split(':')\n",
        "    download_url = unquote(download_url_encoded)\n",
        "    filename = urlparse(download_url).path\n",
        "    destination_path = os.path.join(KAGGLE_INPUT_PATH, directory)\n",
        "    try:\n",
        "        with urlopen(download_url) as fileres, NamedTemporaryFile() as tfile:\n",
        "            total_length = fileres.headers['content-length']\n",
        "            print(f'Downloading {directory}, {total_length} bytes compressed')\n",
        "            dl = 0\n",
        "            data = fileres.read(CHUNK_SIZE)\n",
        "            while len(data) > 0:\n",
        "                dl += len(data)\n",
        "                tfile.write(data)\n",
        "                done = int(50 * dl / int(total_length))\n",
        "                sys.stdout.write(f\"\\r[{'=' * done}{' ' * (50-done)}] {dl} bytes downloaded\")\n",
        "                sys.stdout.flush()\n",
        "                data = fileres.read(CHUNK_SIZE)\n",
        "            if filename.endswith('.zip'):\n",
        "              with ZipFile(tfile) as zfile:\n",
        "                zfile.extractall(destination_path)\n",
        "            else:\n",
        "              with tarfile.open(tfile.name) as tarfile:\n",
        "                tarfile.extractall(destination_path)\n",
        "            print(f'\\nDownloaded and uncompressed: {directory}')\n",
        "    except HTTPError as e:\n",
        "        print(f'Failed to load (likely expired) {download_url} to path {destination_path}')\n",
        "        continue\n",
        "    except OSError as e:\n",
        "        print(f'Failed to load {download_url} to path {destination_path}')\n",
        "        continue\n",
        "\n",
        "print('Data source import complete.')\n"
      ],
      "metadata": {
        "id": "tZV67vea-MjT"
      },
      "cell_type": "code",
      "outputs": [],
      "execution_count": null
    },
    {
      "cell_type": "markdown",
      "source": [
        "<a id=toc></a>\n",
        "<h1 style=\"padding: 35px;color:white;margin:10;font-size:200%;text-align:center;display:fill;border-radius:10px;overflow:hidden;background-image: url(https://i.postimg.cc/fTDmwnkQ/Miaka.png); background-size: 100% auto;background-position: 0px 0px;\n",
        "\"><span style='color:white'><b> Machine Translation Using Encoder-Decoder with Attention Mechanism</b></span></h1>\n",
        "\n",
        "<br>\n",
        "\n",
        "<center>\n",
        "    <img src=\"https://media.geeksforgeeks.org/wp-content/uploads/20231226141038/Machine-Translation-Model.png\"\n",
        "         alt =\"Machine Translation\"\n",
        "         style='width: 60%;'>\n",
        "    <figcaption>\n",
        "            Source: <a href='https://media.geeksforgeeks.org/wp-content/uploads/20231226141038/Machine-Translation-Model.png'> GFG | Machine Translation</a>\n",
        "    </figcaption>\n",
        "</center>\n",
        "\n",
        "## 🎯 Objective\n",
        " The goal of this notebook is to practice Encoder-Decoder architecture by doing Machine translation. In this notebook I am doing English to hindi translation using Encoder-Decoder .\n",
        "\n",
        "## 📁 Dataset\n",
        "The dataset used in this notebook is the '<b>IIT Bombay English-Hindi Translation Dataset</b>' uploaded by @VAIBHAV KUMAR on kaggle. This Data contains 1,561,840 instances of Hindi - English Translation\n",
        "\n",
        "<br>\n",
        "\n",
        "<hr>\n",
        "\n",
        "## Table of contents\n",
        "- [1 | Overview  of working technology](#1)\n",
        "\n",
        "- [2 | Importing Required Libraries & DataSource](#2)\n",
        "   > - [Load & Inspect Data](#2.1)\n",
        "\n",
        "- [3 | Data Exploration](#3)\n",
        "   > - [Computing Dimension of Dataset](#3.1)\n",
        "   > - [Statistical Summary of Dataset](#3.2)\n",
        "   > - [Checking if There's Any Duplicate Records](#3.3)\n",
        "   > - [Computing Total No. of Missing Values and the Percentage of Missing Values](#3.4)\n",
        "   > - [Performing Descriptive Analysis](#3.5)\n",
        "   \n",
        "   \n",
        "- [4 | Preprocessing](#4)\n",
        "   > - [Dropping Duplicates and Null Values](#4.1)\n",
        "   > - [Lowercasing](#4.2)\n",
        "   > - [Removing Html tags](#4.3)\n",
        "   > - [Removing URLs](#4.4)\n",
        "   > - [Chat word treatment](#4.5)\n",
        "   > - [Removing Emojis](#4.6)\n",
        "   > - [Removing contractions](#4.7)\n",
        "   > - [Remove Non-Hindi and Alphanumeric characters](#4.8)\n",
        "   > - [WordCloud](#4.9)\n",
        "   > - [Tokenize on the Data ](#4.10)\n",
        "   > - [Split the Data into Independent and Dependent Variable](#4.11)\n",
        "   > - [Padding the Data](#4.12)\n",
        "   > - [Train Test and split](#4.13)\n",
        "   \n",
        "- [5 | Modelling](#5)\n",
        "   > - [Enocer Decoder model](#5.1)\n",
        "   > - [Enocer Decoder model Evaluation](#5.2)\n",
        "   > - [Prediction from Enocer Decoder model](#5.3)\n",
        "   > - [Enocer Decoder model with attention](#5.4)\n",
        "   > - [Enocer Decoder model's with attention Evaluation](#5.5)\n",
        "   > - [Prediction from Enocer Decoder model with attention](#5.6)\n",
        "   > - [Saving the weights](#5.7)\n",
        "\n",
        "<br>\n",
        "\n",
        "<hr>\n",
        "\n",
        "# Author Details:\n",
        "- **Name: Anmol Gupta**\n",
        "- **Email: getanmol.gupta@gmail.com**\n",
        "- **LinkedIn: www.linkedin.com/in/anmol-gupta-9a905a228**\n",
        "- **GitHub: https://github.com/anmolgupta01**"
      ],
      "metadata": {
        "id": "Z4dtu9WH-MjV"
      }
    },
    {
      "cell_type": "markdown",
      "source": [
        "<a id='1'></a>\n",
        "# 1 | Overview of Working Technology\n",
        "\n",
        "<div style=\"padding: 4px;color:white;margin:10;font-size:200%;text-align:center;display:fill;border-radius:10px;overflow:hidden;background-image: url(https://i.postimg.cc/fTDmwnkQ/Miaka.png); background-size: 100% auto;\"></div>\n"
      ],
      "metadata": {
        "id": "UncEI4Tm-MjX"
      }
    },
    {
      "cell_type": "markdown",
      "source": [
        "<a id=toc></a>\n",
        "<h1 style=\"padding: 35px;color:white;margin:10;font-size:200%;text-align:center;display:fill;border-radius:10px;overflow:hidden;background-image: url(https://i.postimg.cc/fTDmwnkQ/Miaka.png); background-size: 100% auto;background-position: 0px 0px;\n",
        "\"><span style='color:white'><b> Ecoder Decoder Architecture without Attention </b></span></h1>"
      ],
      "metadata": {
        "id": "T_EqEyki-MjY"
      }
    },
    {
      "cell_type": "markdown",
      "source": [
        "![Encoder](https://6chaoran.wordpress.com/wp-content/uploads/2019/01/encoder-decoder-architecture.png?w=640)"
      ],
      "metadata": {
        "execution": {
          "iopub.status.busy": "2024-07-07T14:00:29.688355Z",
          "iopub.execute_input": "2024-07-07T14:00:29.688861Z",
          "iopub.status.idle": "2024-07-07T14:00:30.908182Z",
          "shell.execute_reply.started": "2024-07-07T14:00:29.688826Z",
          "shell.execute_reply": "2024-07-07T14:00:30.90649Z"
        },
        "id": "pDXTjHXX-MjY"
      }
    },
    {
      "cell_type": "markdown",
      "source": [
        "<a id=toc></a>\n",
        "<h1 style=\"padding: 35px;color:white;margin:10;font-size:200%;text-align:center;display:fill;border-radius:10px;overflow:hidden;background-image: url(https://i.postimg.cc/fTDmwnkQ/Miaka.png); background-size: 100% auto;background-position: 0px 0px;\n",
        "\"><span style='color:white'><b> Ecoder Decoder Architecture with Attention </b></span></h1>"
      ],
      "metadata": {
        "id": "FUtQc79_-MjY"
      }
    },
    {
      "cell_type": "markdown",
      "source": [
        "![Encoder](https://www.researchgate.net/publication/377750342/figure/fig2/AS:11431281220369226@1706414219715/RNN-encoder-decoder-with-an-Attention-mechanism.png)"
      ],
      "metadata": {
        "id": "BDrKlnGL-MjZ"
      }
    },
    {
      "cell_type": "markdown",
      "source": [
        "### Encoder-Decoder Architecture in RNNs:\n",
        "- **Architecture**:\n",
        "  - Comprises two RNNs: an Encoder and a Decoder.\n",
        "  - Encoder processes the input sequence and converts it into a fixed-size context vector.\n",
        "  - Decoder takes this context vector and generates the output sequence step by step.\n",
        "\n",
        "- **Encoder**:\n",
        "  - Takes input sequence one token at a time.\n",
        "  - Outputs a context vector summarizing the input sequence.\n",
        "  - Can use various RNN variants like LSTM or GRU.\n",
        "\n",
        "- **Decoder**:\n",
        "  - Takes the context vector from the Encoder and generates the output sequence.\n",
        "  - Processes the output sequence step by step, incorporating information from the context vector.\n",
        "  - Can have a different architecture from the Encoder, but typically uses the same RNN variant.\n",
        "\n",
        "- **Training**:\n",
        "  - During training, both Encoder and Decoder are jointly trained using teacher forcing.\n",
        "  - Teacher forcing involves providing the correct previous target token as input to the Decoder at each step."
      ],
      "metadata": {
        "id": "5GO1rTT3-MjZ"
      }
    },
    {
      "cell_type": "markdown",
      "source": [
        "<center><div style='color:#ffffff;\n",
        "           display:inline-block;\n",
        "           padding: 5px 5px 5px 5px;\n",
        "           border-radius:5px;\n",
        "           background-color:#78D1E1;\n",
        "           font-size:100%;'><a href=#toc style='text-decoration: none; color:#03001C;'>⬆️ Back To Top</a></div></center>\n",
        "\n",
        "<a id='2'></a>\n",
        "# 2 | Importing Required Libraries & DataSource\n",
        "\n",
        "<div style=\"padding: 4px;color:white;margin:10;font-size:200%;text-align:center;display:fill;border-radius:10px;overflow:hidden;background-image: url(https://i.postimg.cc/fTDmwnkQ/Miaka.png); background-size: 100% auto;\"></div>\n"
      ],
      "metadata": {
        "id": "sOy421Tp-Mja"
      }
    },
    {
      "cell_type": "code",
      "source": [
        "!pip install contractions"
      ],
      "metadata": {
        "execution": {
          "iopub.status.busy": "2024-09-19T09:16:43.487143Z",
          "iopub.execute_input": "2024-09-19T09:16:43.487561Z",
          "iopub.status.idle": "2024-09-19T09:16:57.735388Z",
          "shell.execute_reply.started": "2024-09-19T09:16:43.487531Z",
          "shell.execute_reply": "2024-09-19T09:16:57.734455Z"
        },
        "trusted": true,
        "id": "S7DnoxeY-Mja"
      },
      "execution_count": null,
      "outputs": []
    },
    {
      "cell_type": "code",
      "source": [
        "from textblob import Word\n",
        "import nltk\n",
        "nltk.data.path.append(\"/kaggle/working/\")\n",
        "nltk.download('wordnet')"
      ],
      "metadata": {
        "execution": {
          "iopub.status.busy": "2024-09-19T09:16:57.737452Z",
          "iopub.execute_input": "2024-09-19T09:16:57.737719Z",
          "iopub.status.idle": "2024-09-19T09:16:59.070203Z",
          "shell.execute_reply.started": "2024-09-19T09:16:57.737694Z",
          "shell.execute_reply": "2024-09-19T09:16:59.069326Z"
        },
        "trusted": true,
        "id": "ZzVFXL37-Mjb"
      },
      "execution_count": null,
      "outputs": []
    },
    {
      "cell_type": "code",
      "source": [
        "# Libraray for Data Manipulation\n",
        "import numpy as np\n",
        "import pandas as pd\n",
        "\n",
        "# Libraray for Data Visualisation\n",
        "import seaborn as sns\n",
        "import matplotlib.pyplot as plt\n",
        "sns.set(style=\"white\",font_scale=1.5)\n",
        "sns.set(rc={\"axes.facecolor\":\"#FFFAF0\",\"figure.facecolor\":\"#FFFAF0\"})\n",
        "sns.set_context(\"poster\",font_scale = .7)\n",
        "\n",
        "# Library for preprocessing\n",
        "import contractions\n",
        "from sklearn.feature_extraction.text import CountVectorizer\n",
        "from sklearn.preprocessing import LabelBinarizer\n",
        "from nltk.corpus import stopwords\n",
        "from nltk.stem.porter import PorterStemmer\n",
        "from wordcloud import WordCloud,STOPWORDS\n",
        "from nltk.stem import WordNetLemmatizer\n",
        "from nltk.tokenize import word_tokenize,sent_tokenize\n",
        "import spacy\n",
        "import math\n",
        "from gensim.models import Word2Vec\n",
        "from sklearn.feature_extraction.text import TfidfVectorizer\n",
        "from joblib import Parallel, delayed\n",
        "import re,string,unicodedata\n",
        "from sklearn.model_selection import train_test_split\n",
        "from textblob import TextBlob\n",
        "from scipy.sparse import lil_matrix\n",
        "from tensorflow.keras.preprocessing.sequence import pad_sequences\n",
        "from nltk import pos_tag\n",
        "\n",
        "# Library for model building\n",
        "from tensorflow.keras.regularizers import l2\n",
        "import tensorflow\n",
        "import keras\n",
        "from keras import layers\n",
        "from tensorflow.keras.preprocessing.text import Tokenizer\n",
        "from keras.models import Sequential,Model\n",
        "#from attention import BahdanauAttention\n",
        "from keras.layers import SimpleRNN,LSTM,GRU, Embedding, Dense, SpatialDropout1D, Dropout, BatchNormalization, Bidirectional, Attention, Input\n",
        "from sklearn.metrics import accuracy_score\n",
        "from tensorflow.keras.initializers import GlorotUniform\n",
        "from tensorflow.keras.optimizers import Adam\n",
        "\n",
        "#Library to overcome Warnings\n",
        "import warnings\n",
        "warnings.filterwarnings('ignore')\n",
        "\n",
        "import os\n",
        "for dirname, _, filenames in os.walk('/kaggle/input'):\n",
        "    for filename in filenames:\n",
        "        print(os.path.join(dirname, filename))"
      ],
      "metadata": {
        "execution": {
          "iopub.status.busy": "2024-09-19T09:16:59.071411Z",
          "iopub.execute_input": "2024-09-19T09:16:59.071721Z",
          "iopub.status.idle": "2024-09-19T09:17:33.813287Z",
          "shell.execute_reply.started": "2024-09-19T09:16:59.071694Z",
          "shell.execute_reply": "2024-09-19T09:17:33.812287Z"
        },
        "trusted": true,
        "id": "FY3_2VR_-Mjb"
      },
      "execution_count": null,
      "outputs": []
    },
    {
      "cell_type": "markdown",
      "source": [
        "<center><div style='color:#ffffff;\n",
        "           display:inline-block;\n",
        "           padding: 5px 5px 5px 5px;\n",
        "           border-radius:5px;\n",
        "           background-color:#78D1E1;\n",
        "           font-size:100%;'><a href=#toc style='text-decoration: none; color:#03001C;'>⬆️ Back To Top</a></div></center>\n",
        "\n",
        "<a id='1.1'></a>\n",
        "# Load and Inspect Dataset\n",
        "\n",
        "<div style=\"padding: 4px;color:white;margin:10;font-size:200%;text-align:center;display:fill;border-radius:10px;overflow:hidden;background-image: url(https://i.postimg.cc/fTDmwnkQ/Miaka.png); background-size: 100% auto;\"></div>\n"
      ],
      "metadata": {
        "id": "JddriY-j-Mjc"
      }
    },
    {
      "cell_type": "code",
      "source": [
        "data = pd.read_csv('/kaggle/input/english-hindi-dataset/Dataset_English_Hindi.csv')"
      ],
      "metadata": {
        "execution": {
          "iopub.status.busy": "2024-09-19T09:17:33.814664Z",
          "iopub.execute_input": "2024-09-19T09:17:33.815526Z",
          "iopub.status.idle": "2024-09-19T09:17:35.050036Z",
          "shell.execute_reply.started": "2024-09-19T09:17:33.815486Z",
          "shell.execute_reply": "2024-09-19T09:17:35.049232Z"
        },
        "trusted": true,
        "id": "oF8b4odT-Mjc"
      },
      "execution_count": null,
      "outputs": []
    },
    {
      "cell_type": "code",
      "source": [
        "data.sample(5)"
      ],
      "metadata": {
        "execution": {
          "iopub.status.busy": "2024-09-19T09:17:35.052426Z",
          "iopub.execute_input": "2024-09-19T09:17:35.052729Z",
          "iopub.status.idle": "2024-09-19T09:17:35.077998Z",
          "shell.execute_reply.started": "2024-09-19T09:17:35.052704Z",
          "shell.execute_reply": "2024-09-19T09:17:35.077024Z"
        },
        "trusted": true,
        "id": "9lOR0ZYl-Mjc"
      },
      "execution_count": null,
      "outputs": []
    },
    {
      "cell_type": "markdown",
      "source": [
        "<center><div style='color:#ffffff;\n",
        "           display:inline-block;\n",
        "           padding: 5px 5px 5px 5px;\n",
        "           border-radius:5px;\n",
        "           background-color:#78D1E1;\n",
        "           font-size:100%;'><a href=#toc style='text-decoration: none; color:#03001C;'>⬆️ Back To Top</a></div></center>\n",
        "\n",
        "<a id='3'></a>\n",
        "# 3 | Data Exploration\n",
        "\n",
        "<div style=\"padding: 4px;color:white;margin:10;font-size:200%;text-align:center;display:fill;border-radius:10px;overflow:hidden;background-image: url(https://i.postimg.cc/fTDmwnkQ/Miaka.png); background-size: 100% auto;\"></div>\n"
      ],
      "metadata": {
        "id": "w-hFe6Ss-Mjc"
      }
    },
    {
      "cell_type": "markdown",
      "source": [
        "<a id='3.1'></a>\n",
        "#### 3.1. Computing Dimension of Dataset"
      ],
      "metadata": {
        "execution": {
          "iopub.status.busy": "2024-07-07T14:15:32.368708Z",
          "iopub.execute_input": "2024-07-07T14:15:32.369273Z",
          "iopub.status.idle": "2024-07-07T14:15:32.379257Z",
          "shell.execute_reply.started": "2024-07-07T14:15:32.369235Z",
          "shell.execute_reply": "2024-07-07T14:15:32.377314Z"
        },
        "id": "f01AViOK-Mjc"
      }
    },
    {
      "cell_type": "code",
      "source": [
        "print(\"dataset shape: \",data.shape)"
      ],
      "metadata": {
        "execution": {
          "iopub.status.busy": "2024-09-19T09:17:35.079207Z",
          "iopub.execute_input": "2024-09-19T09:17:35.079501Z",
          "iopub.status.idle": "2024-09-19T09:17:35.130802Z",
          "shell.execute_reply.started": "2024-09-19T09:17:35.079476Z",
          "shell.execute_reply": "2024-09-19T09:17:35.130033Z"
        },
        "trusted": true,
        "id": "YFs9tw0f-Mjc"
      },
      "execution_count": null,
      "outputs": []
    },
    {
      "cell_type": "markdown",
      "source": [
        "<div style=\"border-radius:10px; border:#808080 dashed; padding: 15px; background-color: ##F0E68C ; font-size:100%; text-align:left\">\n",
        "\n",
        "<h3 align=\"left\"><font color=brown> 🔍 Inference:</font></h3>\n",
        "\n",
        "* There is total **1561841 records** and **2 columns** availabe in the data."
      ],
      "metadata": {
        "id": "AQ7JMv94-Mjd"
      }
    },
    {
      "cell_type": "markdown",
      "source": [
        "<a id='3.2'></a>\n",
        "#### 3.2. Statistical Summary of Dataset"
      ],
      "metadata": {
        "execution": {
          "iopub.status.busy": "2024-07-07T14:16:38.503878Z",
          "iopub.execute_input": "2024-07-07T14:16:38.504356Z",
          "iopub.status.idle": "2024-07-07T14:16:38.512008Z",
          "shell.execute_reply.started": "2024-07-07T14:16:38.504322Z",
          "shell.execute_reply": "2024-07-07T14:16:38.510486Z"
        },
        "id": "ASOlWEbd-Mjd"
      }
    },
    {
      "cell_type": "code",
      "source": [
        "data.info()"
      ],
      "metadata": {
        "execution": {
          "iopub.status.busy": "2024-09-19T09:17:35.131893Z",
          "iopub.execute_input": "2024-09-19T09:17:35.132233Z",
          "iopub.status.idle": "2024-09-19T09:17:35.182475Z",
          "shell.execute_reply.started": "2024-09-19T09:17:35.132201Z",
          "shell.execute_reply": "2024-09-19T09:17:35.181595Z"
        },
        "trusted": true,
        "id": "54AH8zLm-Mjd"
      },
      "execution_count": null,
      "outputs": []
    },
    {
      "cell_type": "markdown",
      "source": [
        "<a id='3.3'></a>\n",
        "#### 3.3. Checking if There's Any Duplicate Records."
      ],
      "metadata": {
        "execution": {
          "iopub.status.busy": "2024-07-07T14:17:27.248099Z",
          "iopub.execute_input": "2024-07-07T14:17:27.249131Z",
          "iopub.status.idle": "2024-07-07T14:17:27.255988Z",
          "shell.execute_reply.started": "2024-07-07T14:17:27.249087Z",
          "shell.execute_reply": "2024-07-07T14:17:27.254528Z"
        },
        "id": "SdDv6r5M-Mjd"
      }
    },
    {
      "cell_type": "code",
      "source": [
        "print(\"Duplicates in Dataset: \",data.duplicated().sum())"
      ],
      "metadata": {
        "execution": {
          "iopub.status.busy": "2024-09-19T09:17:35.183669Z",
          "iopub.execute_input": "2024-09-19T09:17:35.184214Z",
          "iopub.status.idle": "2024-09-19T09:17:35.279512Z",
          "shell.execute_reply.started": "2024-09-19T09:17:35.184179Z",
          "shell.execute_reply": "2024-09-19T09:17:35.278585Z"
        },
        "trusted": true,
        "id": "KWO3DQqu-Mjd"
      },
      "execution_count": null,
      "outputs": []
    },
    {
      "cell_type": "markdown",
      "source": [
        "<a id='3.4'></a>\n",
        "#### 3.4. Computing Total No. of Missing Values and the Percentage of Missing Values"
      ],
      "metadata": {
        "id": "bhDAyGMX-Mjd"
      }
    },
    {
      "cell_type": "code",
      "source": [
        "missing_data = data.isnull().sum().to_frame().rename(columns={0:\"Total No. of Missing Values\"})\n",
        "missing_data[\"% of Missing Values\"] = round((missing_data[\"Total No. of Missing Values\"]/len(data))*100,2)\n",
        "missing_data"
      ],
      "metadata": {
        "execution": {
          "iopub.status.busy": "2024-09-19T09:17:35.280805Z",
          "iopub.execute_input": "2024-09-19T09:17:35.281159Z",
          "iopub.status.idle": "2024-09-19T09:17:35.321891Z",
          "shell.execute_reply.started": "2024-09-19T09:17:35.281133Z",
          "shell.execute_reply": "2024-09-19T09:17:35.320939Z"
        },
        "trusted": true,
        "id": "w9NBYG6Z-Mjd"
      },
      "execution_count": null,
      "outputs": []
    },
    {
      "cell_type": "markdown",
      "source": [
        "<div style=\"border-radius:10px; border:#808080 dashed; padding: 15px; background-color: ##F0E68C ; font-size:100%; text-align:left\">\n",
        "\n",
        "<h3 align=\"left\"><font color=brown> 🔍 Inference:</font></h3>\n",
        "\n",
        "* Some of the Attribute are having Missing Values.  "
      ],
      "metadata": {
        "id": "cupMBI_S-Mjd"
      }
    },
    {
      "cell_type": "markdown",
      "source": [
        "<a id='3.5'></a>\n",
        "#### 3.5. Performing Descriptive Analysis"
      ],
      "metadata": {
        "id": "klhAjynS-Mjd"
      }
    },
    {
      "cell_type": "code",
      "source": [
        "round(data.describe().T,2)"
      ],
      "metadata": {
        "execution": {
          "iopub.status.busy": "2024-09-19T09:17:35.323315Z",
          "iopub.execute_input": "2024-09-19T09:17:35.323642Z",
          "iopub.status.idle": "2024-09-19T09:17:35.515213Z",
          "shell.execute_reply.started": "2024-09-19T09:17:35.323617Z",
          "shell.execute_reply": "2024-09-19T09:17:35.514303Z"
        },
        "trusted": true,
        "id": "E89ShNNz-Mjd"
      },
      "execution_count": null,
      "outputs": []
    },
    {
      "cell_type": "markdown",
      "source": [
        "<center><div style='color:#ffffff;\n",
        "           display:inline-block;\n",
        "           padding: 5px 5px 5px 5px;\n",
        "           border-radius:5px;\n",
        "           background-color:#78D1E1;\n",
        "           font-size:100%;'><a href=#toc style='text-decoration: none; color:#03001C;'>⬆️ Back To Top</a></div></center>\n",
        "\n",
        "<a id='4'></a>\n",
        "# 4 | Preprocessing\n",
        "\n",
        "<div style=\"padding: 4px;color:white;margin:10;font-size:200%;text-align:center;display:fill;border-radius:10px;overflow:hidden;background-image: url(https://i.postimg.cc/fTDmwnkQ/Miaka.png); background-size: 100% auto;\"></div>\n"
      ],
      "metadata": {
        "id": "L23vj73B-Mjd"
      }
    },
    {
      "cell_type": "markdown",
      "source": [
        "<a id='4.1'></a>\n",
        "### **1. Dropping Duplicates and Null Values**"
      ],
      "metadata": {
        "id": "pfITAfHL-Mje"
      }
    },
    {
      "cell_type": "code",
      "source": [
        "data.drop_duplicates(inplace = True)"
      ],
      "metadata": {
        "execution": {
          "iopub.status.busy": "2024-09-19T09:17:35.516699Z",
          "iopub.execute_input": "2024-09-19T09:17:35.51712Z",
          "iopub.status.idle": "2024-09-19T09:17:35.59729Z",
          "shell.execute_reply.started": "2024-09-19T09:17:35.517084Z",
          "shell.execute_reply": "2024-09-19T09:17:35.596462Z"
        },
        "trusted": true,
        "id": "zbR9P6IY-Mje"
      },
      "execution_count": null,
      "outputs": []
    },
    {
      "cell_type": "code",
      "source": [
        "data.dropna(inplace = True)"
      ],
      "metadata": {
        "execution": {
          "iopub.status.busy": "2024-09-19T09:17:35.598374Z",
          "iopub.execute_input": "2024-09-19T09:17:35.598673Z",
          "iopub.status.idle": "2024-09-19T09:17:35.633728Z",
          "shell.execute_reply.started": "2024-09-19T09:17:35.598647Z",
          "shell.execute_reply": "2024-09-19T09:17:35.632889Z"
        },
        "trusted": true,
        "id": "cdg5sARH-Mje"
      },
      "execution_count": null,
      "outputs": []
    },
    {
      "cell_type": "markdown",
      "source": [
        "<a id='4.2'></a>\n",
        "### **2. Lowercasing**"
      ],
      "metadata": {
        "id": "LbrU4zq9-Mje"
      }
    },
    {
      "cell_type": "code",
      "source": [
        "data['English'] = data['English'].str.lower()"
      ],
      "metadata": {
        "execution": {
          "iopub.status.busy": "2024-09-19T09:17:35.635469Z",
          "iopub.execute_input": "2024-09-19T09:17:35.635743Z",
          "iopub.status.idle": "2024-09-19T09:17:35.692881Z",
          "shell.execute_reply.started": "2024-09-19T09:17:35.635719Z",
          "shell.execute_reply": "2024-09-19T09:17:35.692108Z"
        },
        "trusted": true,
        "id": "GBMkaNyN-Mje"
      },
      "execution_count": null,
      "outputs": []
    },
    {
      "cell_type": "markdown",
      "source": [
        "<a id='4.3'></a>\n",
        "### **3. Removing Html tags**"
      ],
      "metadata": {
        "execution": {
          "iopub.status.busy": "2024-07-07T14:29:08.534207Z",
          "iopub.execute_input": "2024-07-07T14:29:08.534756Z",
          "iopub.status.idle": "2024-07-07T14:29:08.54296Z",
          "shell.execute_reply.started": "2024-07-07T14:29:08.534718Z",
          "shell.execute_reply": "2024-07-07T14:29:08.540966Z"
        },
        "id": "XMxdySMR-Mje"
      }
    },
    {
      "cell_type": "code",
      "source": [
        "import re\n",
        "def remove_html_tags(text):\n",
        "    pattern = r'[^a-zA-Z0-9\\s]'\n",
        "    text = re.sub(pattern,'',text)\n",
        "    return text"
      ],
      "metadata": {
        "execution": {
          "iopub.status.busy": "2024-09-19T09:17:35.698218Z",
          "iopub.execute_input": "2024-09-19T09:17:35.698561Z",
          "iopub.status.idle": "2024-09-19T09:17:35.703305Z",
          "shell.execute_reply.started": "2024-09-19T09:17:35.698535Z",
          "shell.execute_reply": "2024-09-19T09:17:35.702285Z"
        },
        "trusted": true,
        "id": "YJsc5Bvs-Mje"
      },
      "execution_count": null,
      "outputs": []
    },
    {
      "cell_type": "code",
      "source": [
        "data['English'] = data['English'].apply(remove_html_tags)"
      ],
      "metadata": {
        "execution": {
          "iopub.status.busy": "2024-09-19T09:17:35.704458Z",
          "iopub.execute_input": "2024-09-19T09:17:35.704737Z",
          "iopub.status.idle": "2024-09-19T09:17:36.27112Z",
          "shell.execute_reply.started": "2024-09-19T09:17:35.704714Z",
          "shell.execute_reply": "2024-09-19T09:17:36.270122Z"
        },
        "trusted": true,
        "id": "BEDreOXY-Mje"
      },
      "execution_count": null,
      "outputs": []
    },
    {
      "cell_type": "markdown",
      "source": [
        "<a id='4.4'></a>\n",
        "### **4.  Removing URLs**"
      ],
      "metadata": {
        "execution": {
          "iopub.status.busy": "2024-07-07T14:37:08.59277Z",
          "iopub.execute_input": "2024-07-07T14:37:08.593797Z",
          "iopub.status.idle": "2024-07-07T14:37:08.60227Z",
          "shell.execute_reply.started": "2024-07-07T14:37:08.593754Z",
          "shell.execute_reply": "2024-07-07T14:37:08.600439Z"
        },
        "id": "7foc-pBI-Mje"
      }
    },
    {
      "cell_type": "code",
      "source": [
        "def remove_url(text):\n",
        "    pattern = re.compile(r'https?://\\S+|www\\.\\S+')\n",
        "    return pattern.sub(r'',text)\n",
        "\n",
        "data['English'] = data['English'].apply(remove_url)\n",
        "data['Hindi'] = data['Hindi'].apply(remove_url)"
      ],
      "metadata": {
        "execution": {
          "iopub.status.busy": "2024-09-19T09:17:36.27226Z",
          "iopub.execute_input": "2024-09-19T09:17:36.272526Z",
          "iopub.status.idle": "2024-09-19T09:17:37.102419Z",
          "shell.execute_reply.started": "2024-09-19T09:17:36.272504Z",
          "shell.execute_reply": "2024-09-19T09:17:37.101438Z"
        },
        "trusted": true,
        "id": "BoPbryt3-Mje"
      },
      "execution_count": null,
      "outputs": []
    },
    {
      "cell_type": "markdown",
      "source": [
        "<a id='4.5'></a>\n",
        "### **5. Chat word treatment**"
      ],
      "metadata": {
        "id": "8tXWbUJr-Mjj"
      }
    },
    {
      "cell_type": "code",
      "source": [
        "chat_words = {\n",
        "    \"AFAIK\": \"As Far As I Know\",\n",
        "    \"AFK\": \"Away From Keyboard\",\n",
        "    \"ASAP\": \"As Soon As Possible\",\n",
        "    \"ATK\": \"At The Keyboard\",\n",
        "    \"ATM\": \"At The Moment\",\n",
        "    \"A3\": \"Anytime, Anywhere, Anyplace\",\n",
        "    \"BAK\": \"Back At Keyboard\",\n",
        "    \"BBL\": \"Be Back Later\",\n",
        "    \"BBS\": \"Be Back Soon\",\n",
        "    \"BFN\": \"Bye For Now\",\n",
        "    \"B4N\": \"Bye For Now\",\n",
        "    \"BRB\": \"Be Right Back\",\n",
        "    \"BRT\": \"Be Right There\",\n",
        "    \"BTW\": \"By The Way\",\n",
        "    \"B4\": \"Before\",\n",
        "    \"CU\": \"See You\",\n",
        "    \"CUL8R\": \"See You Later\",\n",
        "    \"CYA\": \"See You\",\n",
        "    \"FAQ\": \"Frequently Asked Questions\",\n",
        "    \"FC\": \"Fingers Crossed\",\n",
        "    \"FWIW\": \"For What It's Worth\",\n",
        "    \"FYI\": \"For Your Information\",\n",
        "    \"GAL\": \"Get A Life\",\n",
        "    \"GG\": \"Good Game\",\n",
        "    \"GN\": \"Good Night\",\n",
        "    \"GMTA\": \"Great Minds Think Alike\",\n",
        "    \"GR8\": \"Great!\",\n",
        "    \"G9\": \"Genius\",\n",
        "    \"IC\": \"I See\",\n",
        "    \"ICQ\": \"I Seek you (also a chat program)\",\n",
        "    \"ILU\": \"I Love You\",\n",
        "    \"IMHO\": \"In My Honest/Humble Opinion\",\n",
        "    \"IMO\": \"In My Opinion\",\n",
        "    \"IOW\": \"In Other Words\",\n",
        "    \"IRL\": \"In Real Life\",\n",
        "    \"KISS\": \"Keep It Simple, Stupid\",\n",
        "    \"LDR\": \"Long Distance Relationship\",\n",
        "    \"LMAO\": \"Laugh My A.. Off\",\n",
        "    \"LOL\": \"Laughing Out Loud\",\n",
        "    \"LTNS\": \"Long Time No See\",\n",
        "    \"L8R\": \"Later\",\n",
        "    \"MTE\": \"My Thoughts Exactly\",\n",
        "    \"M8\": \"Mate\",\n",
        "    \"NRN\": \"No Reply Necessary\",\n",
        "    \"OIC\": \"Oh I See\",\n",
        "    \"PITA\": \"Pain In The A..\",\n",
        "    \"PRT\": \"Party\",\n",
        "    \"PRW\": \"Parents Are Watching\",\n",
        "    \"QPSA\": \"Que Pasa?\",\n",
        "    \"ROFL\": \"Rolling On The Floor Laughing\",\n",
        "    \"ROFLOL\": \"Rolling On The Floor Laughing Out Loud\",\n",
        "    \"ROTFLMAO\": \"Rolling On The Floor Laughing My A.. Off\",\n",
        "    \"SK8\": \"Skate\",\n",
        "    \"STATS\": \"Your sex and age\",\n",
        "    \"ASL\": \"Age, Sex, Location\",\n",
        "    \"THX\": \"Thank You\",\n",
        "    \"TTFN\": \"Ta-Ta For Now!\",\n",
        "    \"TTYL\": \"Talk To You Later\",\n",
        "    \"U\": \"You\",\n",
        "    \"U2\": \"You Too\",\n",
        "    \"U4E\": \"Yours For Ever\",\n",
        "    \"WB\": \"Welcome Back\",\n",
        "    \"WTF\": \"What The F...\",\n",
        "    \"WTG\": \"Way To Go!\",\n",
        "    \"WUF\": \"Where Are You From?\",\n",
        "    \"W8\": \"Wait...\",\n",
        "    \"7K\": \"Sick:-D Laughter\",\n",
        "    \"TFW\": \"That feeling when\",\n",
        "    \"MFW\": \"My face when\",\n",
        "    \"MRW\": \"My reaction when\",\n",
        "    \"IFYP\": \"I feel your pain\",\n",
        "    \"LOL\": \"Laughing out loud\",\n",
        "    \"TNTL\": \"Trying not to laugh\",\n",
        "    \"JK\": \"Just kidding\",\n",
        "    \"IDC\": \"I don’t care\",\n",
        "    \"ILY\": \"I love you\",\n",
        "    \"IMU\": \"I miss you\",\n",
        "    \"ADIH\": \"Another day in hell\",\n",
        "    \"IDC\": \"I don’t care\",\n",
        "    \"ZZZ\": \"Sleeping, bored, tired\",\n",
        "    \"WYWH\": \"Wish you were here\",\n",
        "    \"TIME\": \"Tears in my eyes\",\n",
        "    \"BAE\": \"Before anyone else\",\n",
        "    \"FIMH\": \"Forever in my heart\",\n",
        "    \"BSAAW\": \"Big smile and a wink\",\n",
        "    \"BWL\": \"Bursting with laughter\",\n",
        "    \"LMAO\": \"Laughing my a** off\",\n",
        "    \"BFF\": \"Best friends forever\",\n",
        "    \"CSL\": \"Can’t stop laughing\",\n",
        "}"
      ],
      "metadata": {
        "execution": {
          "iopub.status.busy": "2024-09-19T09:17:37.103628Z",
          "iopub.execute_input": "2024-09-19T09:17:37.103934Z",
          "iopub.status.idle": "2024-09-19T09:17:37.11642Z",
          "shell.execute_reply.started": "2024-09-19T09:17:37.103909Z",
          "shell.execute_reply": "2024-09-19T09:17:37.115344Z"
        },
        "trusted": true,
        "id": "-H6ksrCz-Mjk"
      },
      "execution_count": null,
      "outputs": []
    },
    {
      "cell_type": "code",
      "source": [
        "def chat_conversion(text):\n",
        "    new_text=[]\n",
        "    for w in text.split():\n",
        "        if w.upper() in chat_words:\n",
        "            new_text.append(chat_words[w.upper()])\n",
        "        else:\n",
        "            new_text.append(w)\n",
        "    return \" \".join(new_text)"
      ],
      "metadata": {
        "execution": {
          "iopub.status.busy": "2024-09-19T09:17:37.117882Z",
          "iopub.execute_input": "2024-09-19T09:17:37.118627Z",
          "iopub.status.idle": "2024-09-19T09:17:37.130614Z",
          "shell.execute_reply.started": "2024-09-19T09:17:37.1186Z",
          "shell.execute_reply": "2024-09-19T09:17:37.129858Z"
        },
        "trusted": true,
        "id": "C9oSl7oD-Mjk"
      },
      "execution_count": null,
      "outputs": []
    },
    {
      "cell_type": "code",
      "source": [
        "data['English'] = data['English'].apply(chat_conversion)"
      ],
      "metadata": {
        "execution": {
          "iopub.status.busy": "2024-09-19T09:17:37.131546Z",
          "iopub.execute_input": "2024-09-19T09:17:37.132098Z",
          "iopub.status.idle": "2024-09-19T09:17:37.964294Z",
          "shell.execute_reply.started": "2024-09-19T09:17:37.132074Z",
          "shell.execute_reply": "2024-09-19T09:17:37.963318Z"
        },
        "trusted": true,
        "id": "rLiKQDTy-Mjk"
      },
      "execution_count": null,
      "outputs": []
    },
    {
      "cell_type": "markdown",
      "source": [
        "<a id='4.6'></a>\n",
        "### **6. Removing Emojis**"
      ],
      "metadata": {
        "id": "paoT22sl-Mjk"
      }
    },
    {
      "cell_type": "code",
      "source": [
        "def remove_emoji(text):\n",
        "    emoji_pattern = re.compile(\"[\"\n",
        "                           u\"\\U0001F600-\\U0001F64F\"  # emoticons\n",
        "                           u\"\\U0001F300-\\U0001F5FF\"  # symbols & pictographs\n",
        "                           u\"\\U0001F680-\\U0001F6FF\"  # transport & map symbols\n",
        "                           u\"\\U0001F1E0-\\U0001F1FF\"  # flags (iOS)\n",
        "                           u\"\\U00002702-\\U000027B0\"\n",
        "                           u\"\\U000024C2-\\U0001F251\"\n",
        "                           \"]+\", flags=re.UNICODE)\n",
        "    return emoji_pattern.sub(r'', text)"
      ],
      "metadata": {
        "execution": {
          "iopub.status.busy": "2024-09-19T09:17:37.965453Z",
          "iopub.execute_input": "2024-09-19T09:17:37.96576Z",
          "iopub.status.idle": "2024-09-19T09:17:37.97171Z",
          "shell.execute_reply.started": "2024-09-19T09:17:37.965736Z",
          "shell.execute_reply": "2024-09-19T09:17:37.970873Z"
        },
        "trusted": true,
        "id": "r1o8vBO--Mjk"
      },
      "execution_count": null,
      "outputs": []
    },
    {
      "cell_type": "code",
      "source": [
        "data['English'] = data['English'].apply(remove_emoji)\n",
        "data['Hindi'] = data['Hindi'].apply(remove_emoji)"
      ],
      "metadata": {
        "execution": {
          "iopub.status.busy": "2024-09-19T09:17:37.973278Z",
          "iopub.execute_input": "2024-09-19T09:17:37.97365Z",
          "iopub.status.idle": "2024-09-19T09:17:39.792504Z",
          "shell.execute_reply.started": "2024-09-19T09:17:37.973618Z",
          "shell.execute_reply": "2024-09-19T09:17:39.791731Z"
        },
        "trusted": true,
        "id": "Vqsw7te0-Mjk"
      },
      "execution_count": null,
      "outputs": []
    },
    {
      "cell_type": "markdown",
      "source": [
        "<a id='4.7'></a>\n",
        "### **7. Removing contraction**"
      ],
      "metadata": {
        "id": "0KIAn4HB-Mjk"
      }
    },
    {
      "cell_type": "code",
      "source": [
        "def expand_contractions(text):\n",
        "    expanded_text = contractions.fix(text)\n",
        "    return expanded_text\n",
        "\n",
        "data['English'] = data['English'].apply(expand_contractions)"
      ],
      "metadata": {
        "execution": {
          "iopub.status.busy": "2024-09-19T09:17:39.793576Z",
          "iopub.execute_input": "2024-09-19T09:17:39.793884Z",
          "iopub.status.idle": "2024-09-19T09:17:41.272569Z",
          "shell.execute_reply.started": "2024-09-19T09:17:39.793857Z",
          "shell.execute_reply": "2024-09-19T09:17:41.271788Z"
        },
        "trusted": true,
        "id": "TqP-lthH-Mjk"
      },
      "execution_count": null,
      "outputs": []
    },
    {
      "cell_type": "markdown",
      "source": [
        "<a id='4.8'></a>\n",
        "### **8. Remove Non-Hindi and Alphanumeric characters**"
      ],
      "metadata": {
        "id": "pIflGveX-Mjl"
      }
    },
    {
      "cell_type": "code",
      "source": [
        "def preprocess_text(text, language='english'):\n",
        "    if not isinstance(text, str):\n",
        "        return text\n",
        "\n",
        "    if language == 'english':\n",
        "        pattern = re.compile(r'[^a-zA-Z0-9\\s]')\n",
        "        return pattern.sub(r'', text)\n",
        "    elif language == 'hindi':\n",
        "        pattern = re.compile(r'[^\\u0900-\\u097F\\s]')\n",
        "        return pattern.sub(r'', text)\n",
        "    else:\n",
        "        raise ValueError(\"Unsupported Language, Supported languages are 'english' and 'hindi'\")\n",
        "\n",
        "data['English'] = data['English'].apply(lambda x: preprocess_text(x, language='english'))\n",
        "data['Hindi'] = data['Hindi'].apply(lambda x: preprocess_text(x, language='hindi'))"
      ],
      "metadata": {
        "execution": {
          "iopub.status.busy": "2024-09-19T09:17:41.27356Z",
          "iopub.execute_input": "2024-09-19T09:17:41.273852Z",
          "iopub.status.idle": "2024-09-19T09:17:42.377183Z",
          "shell.execute_reply.started": "2024-09-19T09:17:41.273813Z",
          "shell.execute_reply": "2024-09-19T09:17:42.376174Z"
        },
        "trusted": true,
        "id": "De6Y1kRv-Mjl"
      },
      "execution_count": null,
      "outputs": []
    },
    {
      "cell_type": "code",
      "source": [
        "data.sample(5)"
      ],
      "metadata": {
        "execution": {
          "iopub.status.busy": "2024-09-19T09:17:42.378673Z",
          "iopub.execute_input": "2024-09-19T09:17:42.37901Z",
          "iopub.status.idle": "2024-09-19T09:17:42.393364Z",
          "shell.execute_reply.started": "2024-09-19T09:17:42.378985Z",
          "shell.execute_reply": "2024-09-19T09:17:42.392371Z"
        },
        "trusted": true,
        "id": "HHxhpa7k-Mjl"
      },
      "execution_count": null,
      "outputs": []
    },
    {
      "cell_type": "markdown",
      "source": [
        "<a id='4.9'></a>\n",
        "### **9. WordCloud**"
      ],
      "metadata": {
        "id": "o9xDRzkh-Mjl"
      }
    },
    {
      "cell_type": "code",
      "source": [
        "# Function to preprocess text and generate word cloud\n",
        "def generate_wordcloud(text_list, language):\n",
        "    # Join the list of words into a single string\n",
        "    text_str = ' '.join(map(str, text_list))\n",
        "\n",
        "    # Generate word cloud without specifying font path\n",
        "    wordcloud = WordCloud(width=800, height=400, background_color='white', colormap='viridis').generate(text_str)\n",
        "\n",
        "    # Display word cloud\n",
        "    plt.figure(figsize=(10, 5))\n",
        "    plt.imshow(wordcloud, interpolation='bilinear')\n",
        "    plt.title(f\"Word Cloud for {language} Text\")\n",
        "    plt.axis('off')\n",
        "    plt.show()"
      ],
      "metadata": {
        "execution": {
          "iopub.status.busy": "2024-09-19T09:17:42.394432Z",
          "iopub.execute_input": "2024-09-19T09:17:42.394705Z",
          "iopub.status.idle": "2024-09-19T09:17:42.404004Z",
          "shell.execute_reply.started": "2024-09-19T09:17:42.394681Z",
          "shell.execute_reply": "2024-09-19T09:17:42.403198Z"
        },
        "trusted": true,
        "id": "F9zhkSm9-Mjl"
      },
      "execution_count": null,
      "outputs": []
    },
    {
      "cell_type": "code",
      "source": [
        "# Generate word clouds for English and Hindi columns\n",
        "generate_wordcloud(data['English'], 'english')"
      ],
      "metadata": {
        "execution": {
          "iopub.status.busy": "2024-09-19T09:17:42.405118Z",
          "iopub.execute_input": "2024-09-19T09:17:42.405411Z",
          "iopub.status.idle": "2024-09-19T09:17:51.805634Z",
          "shell.execute_reply.started": "2024-09-19T09:17:42.405362Z",
          "shell.execute_reply": "2024-09-19T09:17:51.804689Z"
        },
        "trusted": true,
        "id": "MaPFGNpi-Mjl"
      },
      "execution_count": null,
      "outputs": []
    },
    {
      "cell_type": "code",
      "source": [
        "data.shape"
      ],
      "metadata": {
        "execution": {
          "iopub.status.busy": "2024-09-19T09:17:51.806745Z",
          "iopub.execute_input": "2024-09-19T09:17:51.807055Z",
          "iopub.status.idle": "2024-09-19T09:17:51.813324Z",
          "shell.execute_reply.started": "2024-09-19T09:17:51.80703Z",
          "shell.execute_reply": "2024-09-19T09:17:51.812162Z"
        },
        "trusted": true,
        "id": "ZcwSNVus-Mjl"
      },
      "execution_count": null,
      "outputs": []
    },
    {
      "cell_type": "code",
      "source": [
        "data = data[data['English'].str.len() <= 50]"
      ],
      "metadata": {
        "execution": {
          "iopub.status.busy": "2024-09-19T09:17:51.814501Z",
          "iopub.execute_input": "2024-09-19T09:17:51.814893Z",
          "iopub.status.idle": "2024-09-19T09:17:51.909998Z",
          "shell.execute_reply.started": "2024-09-19T09:17:51.814862Z",
          "shell.execute_reply": "2024-09-19T09:17:51.909045Z"
        },
        "trusted": true,
        "id": "kRXv3WSm-Mjm"
      },
      "execution_count": null,
      "outputs": []
    },
    {
      "cell_type": "code",
      "source": [
        "data.shape"
      ],
      "metadata": {
        "execution": {
          "iopub.status.busy": "2024-09-19T09:17:51.911119Z",
          "iopub.execute_input": "2024-09-19T09:17:51.911379Z",
          "iopub.status.idle": "2024-09-19T09:17:51.91701Z",
          "shell.execute_reply.started": "2024-09-19T09:17:51.911358Z",
          "shell.execute_reply": "2024-09-19T09:17:51.916078Z"
        },
        "trusted": true,
        "id": "a0B23C1R-Mjm"
      },
      "execution_count": null,
      "outputs": []
    },
    {
      "cell_type": "code",
      "source": [
        "# Add <start> and <end> tokens to Hindi sentences\n",
        "data['Hindi'] = ['<start> ' + sentence + ' <end>' for sentence in data['Hindi']]"
      ],
      "metadata": {
        "execution": {
          "iopub.status.busy": "2024-09-19T09:17:51.918164Z",
          "iopub.execute_input": "2024-09-19T09:17:51.918429Z",
          "iopub.status.idle": "2024-09-19T09:17:51.955543Z",
          "shell.execute_reply.started": "2024-09-19T09:17:51.918406Z",
          "shell.execute_reply": "2024-09-19T09:17:51.954703Z"
        },
        "trusted": true,
        "id": "KiG2jT67-Mjm"
      },
      "execution_count": null,
      "outputs": []
    },
    {
      "cell_type": "markdown",
      "source": [
        "<a id='4.10'></a>\n",
        "### **10. Tokenize on the Data**"
      ],
      "metadata": {
        "id": "hKo6aA9z-Mjm"
      }
    },
    {
      "cell_type": "code",
      "source": [
        "tok = Tokenizer()\n",
        "tok.fit_on_texts(data['English'])"
      ],
      "metadata": {
        "execution": {
          "iopub.status.busy": "2024-09-19T09:17:51.956725Z",
          "iopub.execute_input": "2024-09-19T09:17:51.957183Z",
          "iopub.status.idle": "2024-09-19T09:17:52.681333Z",
          "shell.execute_reply.started": "2024-09-19T09:17:51.957156Z",
          "shell.execute_reply": "2024-09-19T09:17:52.680518Z"
        },
        "trusted": true,
        "id": "CKKSdfOO-Mjm"
      },
      "execution_count": null,
      "outputs": []
    },
    {
      "cell_type": "code",
      "source": [
        "tok_hindi = Tokenizer()\n",
        "tok_hindi.fit_on_texts(data['Hindi'])"
      ],
      "metadata": {
        "execution": {
          "iopub.status.busy": "2024-09-19T09:17:52.682533Z",
          "iopub.execute_input": "2024-09-19T09:17:52.683233Z",
          "iopub.status.idle": "2024-09-19T09:17:53.68501Z",
          "shell.execute_reply.started": "2024-09-19T09:17:52.683198Z",
          "shell.execute_reply": "2024-09-19T09:17:53.684Z"
        },
        "trusted": true,
        "id": "fwlrpBJx-Mjm"
      },
      "execution_count": null,
      "outputs": []
    },
    {
      "cell_type": "code",
      "source": [
        "len(tok.word_index),len(tok_hindi.word_index)"
      ],
      "metadata": {
        "execution": {
          "iopub.status.busy": "2024-09-19T09:17:53.686255Z",
          "iopub.execute_input": "2024-09-19T09:17:53.686615Z",
          "iopub.status.idle": "2024-09-19T09:17:53.693566Z",
          "shell.execute_reply.started": "2024-09-19T09:17:53.686582Z",
          "shell.execute_reply": "2024-09-19T09:17:53.692696Z"
        },
        "trusted": true,
        "id": "85QcZZI9-Mjm"
      },
      "execution_count": null,
      "outputs": []
    },
    {
      "cell_type": "code",
      "source": [
        "len(tok.word_index),len(tok_hindi.word_index)"
      ],
      "metadata": {
        "execution": {
          "iopub.status.busy": "2024-09-19T09:17:53.694861Z",
          "iopub.execute_input": "2024-09-19T09:17:53.695277Z",
          "iopub.status.idle": "2024-09-19T09:17:53.705026Z",
          "shell.execute_reply.started": "2024-09-19T09:17:53.695246Z",
          "shell.execute_reply": "2024-09-19T09:17:53.704058Z"
        },
        "trusted": true,
        "id": "pPBQ6KHJ-Mjn"
      },
      "execution_count": null,
      "outputs": []
    },
    {
      "cell_type": "code",
      "source": [
        "tok.document_count"
      ],
      "metadata": {
        "execution": {
          "iopub.status.busy": "2024-09-19T09:17:53.706229Z",
          "iopub.execute_input": "2024-09-19T09:17:53.706791Z",
          "iopub.status.idle": "2024-09-19T09:17:53.715571Z",
          "shell.execute_reply.started": "2024-09-19T09:17:53.706767Z",
          "shell.execute_reply": "2024-09-19T09:17:53.714844Z"
        },
        "trusted": true,
        "id": "JWpasSSW-Mjn"
      },
      "execution_count": null,
      "outputs": []
    },
    {
      "cell_type": "markdown",
      "source": [
        "#### **Converting data in numerical forms**"
      ],
      "metadata": {
        "id": "XddCrZSK-Mjn"
      }
    },
    {
      "cell_type": "code",
      "source": [
        "data['English'] = tok.texts_to_sequences(data['English'])\n",
        "data['Hindi'] = tok_hindi.texts_to_sequences(data['Hindi'])"
      ],
      "metadata": {
        "execution": {
          "iopub.status.busy": "2024-09-19T09:17:53.716619Z",
          "iopub.execute_input": "2024-09-19T09:17:53.717048Z",
          "iopub.status.idle": "2024-09-19T09:17:55.460346Z",
          "shell.execute_reply.started": "2024-09-19T09:17:53.717017Z",
          "shell.execute_reply": "2024-09-19T09:17:55.459499Z"
        },
        "trusted": true,
        "id": "vAdiB2CJ-Mjn"
      },
      "execution_count": null,
      "outputs": []
    },
    {
      "cell_type": "code",
      "source": [
        "data"
      ],
      "metadata": {
        "execution": {
          "iopub.status.busy": "2024-09-19T09:17:55.461566Z",
          "iopub.execute_input": "2024-09-19T09:17:55.462224Z",
          "iopub.status.idle": "2024-09-19T09:17:55.481084Z",
          "shell.execute_reply.started": "2024-09-19T09:17:55.46219Z",
          "shell.execute_reply": "2024-09-19T09:17:55.48015Z"
        },
        "trusted": true,
        "id": "MUpqoykA-Mjn"
      },
      "execution_count": null,
      "outputs": []
    },
    {
      "cell_type": "code",
      "source": [
        "def calculate_max_sequence_length(eng,hindi):\n",
        "    max_length_combined = max(max(len(seq) for seq in eng), max(len(seq) for seq in hindi))\n",
        "\n",
        "    return max_length_combined\n",
        "\n",
        "max_length_combined = calculate_max_sequence_length(data['English'],data['Hindi'])\n",
        "max_length_combined"
      ],
      "metadata": {
        "execution": {
          "iopub.status.busy": "2024-09-19T09:17:55.482389Z",
          "iopub.execute_input": "2024-09-19T09:17:55.482647Z",
          "iopub.status.idle": "2024-09-19T09:17:55.513002Z",
          "shell.execute_reply.started": "2024-09-19T09:17:55.482625Z",
          "shell.execute_reply": "2024-09-19T09:17:55.512145Z"
        },
        "trusted": true,
        "id": "Mg6Rkwe4-Mjn"
      },
      "execution_count": null,
      "outputs": []
    },
    {
      "cell_type": "code",
      "source": [
        "for num in data['English'][0]:\n",
        "    print(num, end=' ')"
      ],
      "metadata": {
        "execution": {
          "iopub.status.busy": "2024-09-19T09:17:55.51421Z",
          "iopub.execute_input": "2024-09-19T09:17:55.514588Z",
          "iopub.status.idle": "2024-09-19T09:17:55.523013Z",
          "shell.execute_reply.started": "2024-09-19T09:17:55.514557Z",
          "shell.execute_reply": "2024-09-19T09:17:55.522017Z"
        },
        "trusted": true,
        "id": "XyUG6vB_-Mjn"
      },
      "execution_count": null,
      "outputs": []
    },
    {
      "cell_type": "code",
      "source": [
        "# Print corresponding words horizontally\n",
        "for num in data['English'][0]:\n",
        "    word = tok.index_word.get(num, 'UNK')\n",
        "    print(word, end=' ')"
      ],
      "metadata": {
        "execution": {
          "iopub.status.busy": "2024-09-19T09:17:55.524313Z",
          "iopub.execute_input": "2024-09-19T09:17:55.524723Z",
          "iopub.status.idle": "2024-09-19T09:17:55.53215Z",
          "shell.execute_reply.started": "2024-09-19T09:17:55.52469Z",
          "shell.execute_reply": "2024-09-19T09:17:55.531229Z"
        },
        "trusted": true,
        "id": "_KlDxycY-Mjo"
      },
      "execution_count": null,
      "outputs": []
    },
    {
      "cell_type": "code",
      "source": [
        "for num in data['Hindi'][0]:\n",
        "    word = tok_hindi.index_word.get(num)\n",
        "    print(word,end = \" \")"
      ],
      "metadata": {
        "execution": {
          "iopub.status.busy": "2024-09-19T09:17:55.53937Z",
          "iopub.execute_input": "2024-09-19T09:17:55.539684Z",
          "iopub.status.idle": "2024-09-19T09:17:55.54467Z",
          "shell.execute_reply.started": "2024-09-19T09:17:55.539661Z",
          "shell.execute_reply": "2024-09-19T09:17:55.543718Z"
        },
        "trusted": true,
        "id": "MFE-BJHH-Mjo"
      },
      "execution_count": null,
      "outputs": []
    },
    {
      "cell_type": "markdown",
      "source": [
        "<a id='4.11'></a>\n",
        "### **11. separating the data in dependent and independent**"
      ],
      "metadata": {
        "id": "TfSJ6aeL-Mjo"
      }
    },
    {
      "cell_type": "code",
      "source": [
        "hindi = data['Hindi']\n",
        "english = data['English']"
      ],
      "metadata": {
        "execution": {
          "iopub.status.busy": "2024-09-19T09:17:55.545777Z",
          "iopub.execute_input": "2024-09-19T09:17:55.546055Z",
          "iopub.status.idle": "2024-09-19T09:17:55.552698Z",
          "shell.execute_reply.started": "2024-09-19T09:17:55.546033Z",
          "shell.execute_reply": "2024-09-19T09:17:55.55177Z"
        },
        "trusted": true,
        "id": "aiKfmj09-Mjo"
      },
      "execution_count": null,
      "outputs": []
    },
    {
      "cell_type": "markdown",
      "source": [
        "<a id='4.12'></a>\n",
        "### **12. Padding**"
      ],
      "metadata": {
        "id": "atGGKEZW-Mjo"
      }
    },
    {
      "cell_type": "code",
      "source": [
        "x = pad_sequences(english,maxlen = max_length_combined,padding = 'post')\n",
        "y = pad_sequences(hindi,maxlen = max_length_combined,padding = 'post')"
      ],
      "metadata": {
        "execution": {
          "iopub.status.busy": "2024-09-19T09:17:55.553783Z",
          "iopub.execute_input": "2024-09-19T09:17:55.554088Z",
          "iopub.status.idle": "2024-09-19T09:17:55.998743Z",
          "shell.execute_reply.started": "2024-09-19T09:17:55.554065Z",
          "shell.execute_reply": "2024-09-19T09:17:55.997964Z"
        },
        "trusted": true,
        "id": "kWfbwpFI-Mjo"
      },
      "execution_count": null,
      "outputs": []
    },
    {
      "cell_type": "code",
      "source": [
        "x"
      ],
      "metadata": {
        "execution": {
          "iopub.status.busy": "2024-09-19T09:17:55.999764Z",
          "iopub.execute_input": "2024-09-19T09:17:56.000045Z",
          "iopub.status.idle": "2024-09-19T09:17:56.006201Z",
          "shell.execute_reply.started": "2024-09-19T09:17:56.000022Z",
          "shell.execute_reply": "2024-09-19T09:17:56.005318Z"
        },
        "trusted": true,
        "id": "gxQPqSvb-Mjo"
      },
      "execution_count": null,
      "outputs": []
    },
    {
      "cell_type": "code",
      "source": [
        "y"
      ],
      "metadata": {
        "execution": {
          "iopub.status.busy": "2024-09-19T09:17:56.007481Z",
          "iopub.execute_input": "2024-09-19T09:17:56.007856Z",
          "iopub.status.idle": "2024-09-19T09:17:56.018102Z",
          "shell.execute_reply.started": "2024-09-19T09:17:56.007804Z",
          "shell.execute_reply": "2024-09-19T09:17:56.017164Z"
        },
        "trusted": true,
        "id": "5r8qU9kn-Mjp"
      },
      "execution_count": null,
      "outputs": []
    },
    {
      "cell_type": "markdown",
      "source": [
        "<a id='4.13'></a>\n",
        "### **13. splitting in train test and val**"
      ],
      "metadata": {
        "execution": {
          "iopub.status.busy": "2024-07-08T06:49:45.809649Z",
          "iopub.execute_input": "2024-07-08T06:49:45.81026Z",
          "iopub.status.idle": "2024-07-08T06:49:45.82079Z",
          "shell.execute_reply.started": "2024-07-08T06:49:45.810223Z",
          "shell.execute_reply": "2024-07-08T06:49:45.818713Z"
        },
        "id": "VYDmIVBJ-Mjp"
      }
    },
    {
      "cell_type": "code",
      "source": [
        "x_train,x_test,y_train,y_test = train_test_split(x,y,test_size=0.2,random_state=42)"
      ],
      "metadata": {
        "execution": {
          "iopub.status.busy": "2024-09-19T09:17:56.019238Z",
          "iopub.execute_input": "2024-09-19T09:17:56.01964Z",
          "iopub.status.idle": "2024-09-19T09:17:56.069207Z",
          "shell.execute_reply.started": "2024-09-19T09:17:56.019608Z",
          "shell.execute_reply": "2024-09-19T09:17:56.06838Z"
        },
        "trusted": true,
        "id": "kjHacxoD-Mjp"
      },
      "execution_count": null,
      "outputs": []
    },
    {
      "cell_type": "code",
      "source": [
        "# Check the shape of the resulting arrays\n",
        "print(\"Shape of x_train:\", x_train.shape)\n",
        "print(\"Shape of x_test:\", x_test.shape)\n",
        "print(\"Shape of y_train:\", y_train.shape)\n",
        "print(\"Shape of y_test:\", y_test.shape)"
      ],
      "metadata": {
        "execution": {
          "iopub.status.busy": "2024-09-19T09:17:56.070205Z",
          "iopub.execute_input": "2024-09-19T09:17:56.070465Z",
          "iopub.status.idle": "2024-09-19T09:17:56.075723Z",
          "shell.execute_reply.started": "2024-09-19T09:17:56.070443Z",
          "shell.execute_reply": "2024-09-19T09:17:56.074848Z"
        },
        "trusted": true,
        "id": "tbdAv7r3-Mjp"
      },
      "execution_count": null,
      "outputs": []
    },
    {
      "cell_type": "markdown",
      "source": [
        "<center><div style='color:#ffffff;\n",
        "           display:inline-block;\n",
        "           padding: 5px 5px 5px 5px;\n",
        "           border-radius:5px;\n",
        "           background-color:#78D1E1;\n",
        "           font-size:100%;'><a href=#toc style='text-decoration: none; color:#03001C;'>⬆️ Back To Top</a></div></center>\n",
        "\n",
        "<a id='5'></a>\n",
        "# 5 | Modelling\n",
        "\n",
        "<div style=\"padding: 4px;color:white;margin:10;font-size:200%;text-align:center;display:fill;border-radius:10px;overflow:hidden;background-image: url(https://i.postimg.cc/fTDmwnkQ/Miaka.png); background-size: 100% auto;\"></div>\n"
      ],
      "metadata": {
        "id": "ffGgbDgN-Mjp"
      }
    },
    {
      "cell_type": "markdown",
      "source": [
        "<a id='5.1'></a>\n",
        "### **5.1. ENCODER-DECODER MODEL**"
      ],
      "metadata": {
        "execution": {
          "iopub.status.busy": "2024-07-12T06:02:20.301957Z",
          "iopub.execute_input": "2024-07-12T06:02:20.302442Z",
          "iopub.status.idle": "2024-07-12T06:02:20.309605Z",
          "shell.execute_reply.started": "2024-07-12T06:02:20.302394Z",
          "shell.execute_reply": "2024-07-12T06:02:20.308069Z"
        },
        "id": "UEJiVlqE-Mjp"
      }
    },
    {
      "cell_type": "code",
      "source": [
        "max_length_input = x_train.shape[1]\n",
        "max_length_output = y_train.shape[1]\n",
        "input_vocab_size = len(tok.word_index) + 1\n",
        "output_vocab_size = len(tok_hindi.word_index) + 1\n",
        "\n",
        "# Define Encoder model\n",
        "encoder_inputs = Input(shape=(max_length_input,))\n",
        "encoder_embedding = Embedding(input_dim=input_vocab_size, output_dim=260)(encoder_inputs)\n",
        "encoder_lstm = LSTM(156, return_state=True)\n",
        "encoder_outputs, state_h, state_c = encoder_lstm(encoder_embedding)\n",
        "encoder_states = [state_h, state_c]\n",
        "\n",
        "# Define Decoder model\n",
        "decoder_inputs = Input(shape=(max_length_output,))\n",
        "decoder_embedding = Embedding(input_dim=output_vocab_size, output_dim=260)(decoder_inputs)\n",
        "decoder_lstm = LSTM(156, return_sequences=True, return_state=True)\n",
        "decoder_outputs, _, _ = decoder_lstm(decoder_embedding, initial_state=encoder_states)\n",
        "decoder_dense = Dense(output_vocab_size, activation='softmax')\n",
        "decoder_outputs = decoder_dense(decoder_outputs)\n",
        "\n",
        "# Define the full Encoder-Decoder model\n",
        "model = Model([encoder_inputs, decoder_inputs], decoder_outputs)\n",
        "\n",
        "# Compile the model\n",
        "model.compile(optimizer='adam', loss='sparse_categorical_crossentropy', metrics=['accuracy'])\n",
        "\n",
        "# Print model summary\n",
        "model.summary()"
      ],
      "metadata": {
        "execution": {
          "iopub.status.busy": "2024-09-19T09:17:56.077147Z",
          "iopub.execute_input": "2024-09-19T09:17:56.077493Z",
          "iopub.status.idle": "2024-09-19T09:17:57.322997Z",
          "shell.execute_reply.started": "2024-09-19T09:17:56.077463Z",
          "shell.execute_reply": "2024-09-19T09:17:57.322095Z"
        },
        "trusted": true,
        "id": "78fc6jN3-Mjp"
      },
      "execution_count": null,
      "outputs": []
    },
    {
      "cell_type": "code",
      "source": [
        "from tensorflow.keras.callbacks import EarlyStopping, ModelCheckpoint\n",
        "\n",
        "early_stopping = EarlyStopping(monitor='val_loss', patience=3, restore_best_weights=True)\n",
        "model_checkpoint = ModelCheckpoint('model_checkpoint.keras', save_best_only=True)  # Updated filepath\n",
        "\n",
        "# Train the model with callbacks\n",
        "history = model.fit(\n",
        "    x=[x_train, y_train],# Exclude last token from decoder input\n",
        "    y=y_train,   # Exclude first token from decoder target\n",
        "    batch_size=32,\n",
        "    epochs=5,\n",
        "    validation_data=([x_test, y_test], y_test),\n",
        "    callbacks=[early_stopping, model_checkpoint],\n",
        ")"
      ],
      "metadata": {
        "execution": {
          "iopub.status.busy": "2024-09-19T09:17:57.32401Z",
          "iopub.execute_input": "2024-09-19T09:17:57.324299Z",
          "iopub.status.idle": "2024-09-19T09:23:32.287372Z",
          "shell.execute_reply.started": "2024-09-19T09:17:57.324275Z",
          "shell.execute_reply": "2024-09-19T09:23:32.286583Z"
        },
        "trusted": true,
        "id": "38PbOyRv-Mjp"
      },
      "execution_count": null,
      "outputs": []
    },
    {
      "cell_type": "markdown",
      "source": [
        "<a id='5.2'></a>\n",
        "### **5.2. ENCODER-DECODER MODEL EVALUATION**"
      ],
      "metadata": {
        "id": "GKfkKHwa-Mjq"
      }
    },
    {
      "cell_type": "code",
      "source": [
        "plt.plot(history.history['accuracy'],color = 'blue',label = 'accuracy')\n",
        "plt.plot(history.history['val_accuracy'],color = 'red',label = 'val_accuracy')\n",
        "plt.title(\"Training And Validation Accuracy Score\")\n",
        "plt.xlabel(\"accuracy\")\n",
        "plt.ylabel(\"epochs\")\n",
        "plt.grid()\n",
        "plt.legend()\n",
        "plt.show()"
      ],
      "metadata": {
        "execution": {
          "iopub.status.busy": "2024-09-19T08:21:04.168338Z",
          "iopub.execute_input": "2024-09-19T08:21:04.168669Z",
          "iopub.status.idle": "2024-09-19T08:21:04.500494Z",
          "shell.execute_reply.started": "2024-09-19T08:21:04.168642Z",
          "shell.execute_reply": "2024-09-19T08:21:04.499642Z"
        },
        "trusted": true,
        "id": "_5ylH1A--Mjq"
      },
      "execution_count": null,
      "outputs": []
    },
    {
      "cell_type": "code",
      "source": [
        "plt.plot(history.history['loss'],color = 'blue',label = 'loss')\n",
        "plt.plot(history.history['val_loss'],color = 'red',label = 'val_loss')\n",
        "plt.title(\"Training And Validation Loss Score\")\n",
        "plt.xlabel(\"loss\")\n",
        "plt.ylabel(\"epochs\")\n",
        "plt.grid()\n",
        "plt.legend()\n",
        "plt.show()"
      ],
      "metadata": {
        "execution": {
          "iopub.status.busy": "2024-09-19T08:21:04.501746Z",
          "iopub.execute_input": "2024-09-19T08:21:04.502106Z",
          "iopub.status.idle": "2024-09-19T08:21:04.776725Z",
          "shell.execute_reply.started": "2024-09-19T08:21:04.502073Z",
          "shell.execute_reply": "2024-09-19T08:21:04.77579Z"
        },
        "trusted": true,
        "id": "9_FK9D3J-Mjq"
      },
      "execution_count": null,
      "outputs": []
    },
    {
      "cell_type": "markdown",
      "source": [
        "<a id='5.3'></a>\n",
        "### **5.3. PREDICTION FROM ENCODER-DECODER MODEL**"
      ],
      "metadata": {
        "execution": {
          "iopub.status.busy": "2024-07-17T17:03:22.474535Z",
          "iopub.execute_input": "2024-07-17T17:03:22.474977Z",
          "iopub.status.idle": "2024-07-17T17:03:22.479319Z",
          "shell.execute_reply.started": "2024-07-17T17:03:22.474942Z",
          "shell.execute_reply": "2024-07-17T17:03:22.478452Z"
        },
        "id": "qS05eJA--Mjq"
      }
    },
    {
      "cell_type": "code",
      "source": [
        "import numpy as np\n",
        "import os\n",
        "os.environ['CUDA_VISIBLE_DEVICES'] = '-1'\n",
        "\n",
        "# Reverse token dictionaries\n",
        "rev_tok_hindi = {idx: word for word, idx in tok_hindi.word_index.items()}\n",
        "\n",
        "# Select a subset of test data\n",
        "num_samples = 10\n",
        "x_test_subset = x_test[:num_samples]\n",
        "y_test_padded_subset = y_test[:num_samples]\n",
        "\n",
        "# Predict\n",
        "predictions = model.predict([x_test_subset, y_test_padded_subset], batch_size=16)\n",
        "print('Shape of predictions:', predictions.shape)\n",
        "\n",
        "# Convert predictions to token indices\n",
        "predicted_tokens_np = np.argmax(predictions, axis=-1)\n",
        "print('Shape of predicted_tokens:', predicted_tokens_np.shape)\n",
        "\n",
        "# Map indices to tokens and remove 'start' and 'end' tokens\n",
        "predicted_sentences = []\n",
        "for sample in predicted_tokens_np:\n",
        "    sentence = ' '.join([rev_tok_hindi.get(token, '<unknown>') for token in sample if token != 0 and token not in [tok_hindi.word_index.get('start'), tok_hindi.word_index.get('end')]])  # Exclude padding, 'start', and 'end' tokens\n",
        "    predicted_sentences.append(sentence)\n",
        "\n",
        "# Reverse token dictionary for English (assuming you have `tok_english` for English tokens)\n",
        "rev_tok_english = {idx: word for word, idx in tok.word_index.items()}\n",
        "\n",
        "# Map the English test inputs to their corresponding sentences\n",
        "english_sentences = []\n",
        "for sample in x_test_subset:\n",
        "    sentence = ' '.join([rev_tok_english.get(token, '<unknown>') for token in sample if token != 0])  # Exclude padding token\n",
        "    english_sentences.append(sentence)\n",
        "\n",
        "# Print English sentence followed by predicted Hindi sentence\n",
        "for idx, (eng_sentence, hin_sentence) in enumerate(zip(english_sentences, predicted_sentences)):\n",
        "    print(f'English sentence {idx + 1}: {eng_sentence}')\n",
        "    print(f'Predicted Hindi translation {idx + 1}: {hin_sentence}\\n')\n"
      ],
      "metadata": {
        "execution": {
          "iopub.status.busy": "2024-09-19T08:21:04.77843Z",
          "iopub.execute_input": "2024-09-19T08:21:04.778703Z",
          "iopub.status.idle": "2024-09-19T08:21:05.37147Z",
          "shell.execute_reply.started": "2024-09-19T08:21:04.778679Z",
          "shell.execute_reply": "2024-09-19T08:21:05.370466Z"
        },
        "trusted": true,
        "id": "6Fa2D2aa-Mjq"
      },
      "execution_count": null,
      "outputs": []
    },
    {
      "cell_type": "markdown",
      "source": [
        "<a id='5.4'></a>\n",
        "### **5.4. ENCODER-DECODER MODEL WITH ATTENTION**"
      ],
      "metadata": {
        "id": "65mW98w_-Mjq"
      }
    },
    {
      "cell_type": "code",
      "source": [
        "import tensorflow as tf\n",
        "from tensorflow.keras.layers import Input, LSTM, Embedding, Dense, Attention, Concatenate\n",
        "from tensorflow.keras.models import Model\n",
        "\n",
        "# Define Encoder model\n",
        "encoder_inputs = Input(shape=(max_length_input,))\n",
        "encoder_embedding = Embedding(input_dim=input_vocab_size, output_dim=260)(encoder_inputs)\n",
        "encoder_lstm = LSTM(156, return_sequences=True, return_state=True)  # Ensure return_sequences=True\n",
        "encoder_outputs, state_h, state_c = encoder_lstm(encoder_embedding)\n",
        "encoder_states = [state_h, state_c]\n",
        "\n",
        "# Define Decoder model\n",
        "decoder_inputs = Input(shape=(max_length_output,))\n",
        "decoder_embedding = Embedding(input_dim=output_vocab_size, output_dim=260)(decoder_inputs)\n",
        "decoder_lstm = LSTM(156, return_sequences=True, return_state=True)\n",
        "decoder_outputs, _, _ = decoder_lstm(decoder_embedding, initial_state=encoder_states)\n",
        "\n",
        "# Attention Layer\n",
        "attention = Attention()([decoder_outputs, encoder_outputs])\n",
        "\n",
        "# Concatenate attention output with decoder outputs\n",
        "decoder_concat_input = Concatenate(axis=-1)([decoder_outputs, attention])\n",
        "\n",
        "# Dense Layer for output prediction\n",
        "decoder_dense = Dense(output_vocab_size, activation='softmax')\n",
        "decoder_outputs = decoder_dense(decoder_concat_input)\n",
        "\n",
        "# Define the full Encoder-Decoder model\n",
        "model = Model([encoder_inputs, decoder_inputs], decoder_outputs)\n",
        "\n",
        "# Compile the model\n",
        "model.compile(optimizer='adam', loss='sparse_categorical_crossentropy', metrics=['accuracy'])\n",
        "\n",
        "# Print model summary\n",
        "model.summary()\n"
      ],
      "metadata": {
        "execution": {
          "iopub.status.busy": "2024-09-19T08:25:56.751351Z",
          "iopub.execute_input": "2024-09-19T08:25:56.752126Z",
          "iopub.status.idle": "2024-09-19T08:25:56.853719Z",
          "shell.execute_reply.started": "2024-09-19T08:25:56.752093Z",
          "shell.execute_reply": "2024-09-19T08:25:56.852895Z"
        },
        "trusted": true,
        "id": "SX5_1ieg-Mjq"
      },
      "execution_count": null,
      "outputs": []
    },
    {
      "cell_type": "code",
      "source": [
        "early_stopping = EarlyStopping(monitor='val_loss', patience=3, restore_best_weights=True)\n",
        "model_checkpoint = ModelCheckpoint('model_checkpoint.keras', save_best_only=True)  # Updated filepath\n",
        "\n",
        "# Train the model with callbacks\n",
        "history = model.fit(\n",
        "    x=[x_train, y_train],# Exclude last token from decoder input\n",
        "    y=y_train,   # Exclude first token from decoder target\n",
        "    batch_size=32,\n",
        "    epochs=5,\n",
        "    validation_data=([x_test, y_test], y_test),\n",
        "    callbacks=[early_stopping, model_checkpoint],\n",
        ")"
      ],
      "metadata": {
        "execution": {
          "iopub.status.busy": "2024-09-19T08:26:17.51618Z",
          "iopub.execute_input": "2024-09-19T08:26:17.517428Z",
          "iopub.status.idle": "2024-09-19T09:00:52.782242Z",
          "shell.execute_reply.started": "2024-09-19T08:26:17.517391Z",
          "shell.execute_reply": "2024-09-19T09:00:52.781396Z"
        },
        "trusted": true,
        "id": "JWSZ72xP-Mjq"
      },
      "execution_count": null,
      "outputs": []
    },
    {
      "cell_type": "markdown",
      "source": [
        "<a id='5.5'></a>\n",
        "### **5.5. ENCODER-DECODER MODEL WITH ATTENTION EVALUATION**"
      ],
      "metadata": {
        "id": "DRLC99xk-Mjr"
      }
    },
    {
      "cell_type": "code",
      "source": [
        "plt.plot(history.history['accuracy'],color = 'blue',label = 'accuracy')\n",
        "plt.plot(history.history['val_accuracy'],color = 'red',label = 'val_accuracy')\n",
        "plt.title(\"Training And Validation Accuracy Score\")\n",
        "plt.xlabel(\"accuracy\")\n",
        "plt.ylabel(\"epochs\")\n",
        "plt.grid()\n",
        "plt.legend()\n",
        "plt.show()"
      ],
      "metadata": {
        "execution": {
          "iopub.status.busy": "2024-09-19T09:01:11.681751Z",
          "iopub.execute_input": "2024-09-19T09:01:11.682602Z",
          "iopub.status.idle": "2024-09-19T09:01:12.01507Z",
          "shell.execute_reply.started": "2024-09-19T09:01:11.682568Z",
          "shell.execute_reply": "2024-09-19T09:01:12.013995Z"
        },
        "trusted": true,
        "id": "DrcEKuS9-Mjr"
      },
      "execution_count": null,
      "outputs": []
    },
    {
      "cell_type": "code",
      "source": [
        "plt.plot(history.history['loss'],color = 'blue',label = 'loss')\n",
        "plt.plot(history.history['val_loss'],color = 'red',label = 'val_loss')\n",
        "plt.title(\"Training And Validation Loss Score\")\n",
        "plt.xlabel(\"loss\")\n",
        "plt.ylabel(\"epochs\")\n",
        "plt.grid()\n",
        "plt.legend()\n",
        "plt.show()"
      ],
      "metadata": {
        "execution": {
          "iopub.status.busy": "2024-09-19T09:01:12.402685Z",
          "iopub.execute_input": "2024-09-19T09:01:12.40299Z",
          "iopub.status.idle": "2024-09-19T09:01:12.732003Z",
          "shell.execute_reply.started": "2024-09-19T09:01:12.402965Z",
          "shell.execute_reply": "2024-09-19T09:01:12.731075Z"
        },
        "trusted": true,
        "id": "ZNDXDHS7-Mjr"
      },
      "execution_count": null,
      "outputs": []
    },
    {
      "cell_type": "markdown",
      "source": [
        "<a id='5.6'></a>\n",
        "### **5.6. PREDICTION FROM ENCODER-DECODER MODEL WITH ATTENTION**"
      ],
      "metadata": {
        "id": "kalVhLPI-Mjr"
      }
    },
    {
      "cell_type": "code",
      "source": [
        "import numpy as np\n",
        "import os\n",
        "os.environ['CUDA_VISIBLE_DEVICES'] = '-1'\n",
        "\n",
        "# Reverse token dictionaries\n",
        "rev_tok_hindi = {idx: word for word, idx in tok_hindi.word_index.items()}\n",
        "\n",
        "# Select a subset of test data\n",
        "num_samples = 10\n",
        "x_test_subset = x_test[:num_samples]\n",
        "y_test_padded_subset = y_test[:num_samples]\n",
        "\n",
        "# Predict\n",
        "predictions = model.predict([x_test_subset, y_test_padded_subset], batch_size=16)\n",
        "print('Shape of predictions:', predictions.shape)\n",
        "\n",
        "# Convert predictions to token indices\n",
        "predicted_tokens_np = np.argmax(predictions, axis=-1)\n",
        "print('Shape of predicted_tokens:', predicted_tokens_np.shape)\n",
        "\n",
        "# Map indices to tokens and remove 'start' and 'end' tokens\n",
        "predicted_sentences = []\n",
        "for sample in predicted_tokens_np:\n",
        "    sentence = ' '.join([rev_tok_hindi.get(token, '<unknown>') for token in sample if token != 0 and token not in [tok_hindi.word_index.get('start'), tok_hindi.word_index.get('end')]])  # Exclude padding, 'start', and 'end' tokens\n",
        "    predicted_sentences.append(sentence)\n",
        "\n",
        "# Reverse token dictionary for English (assuming you have `tok_english` for English tokens)\n",
        "rev_tok_english = {idx: word for word, idx in tok.word_index.items()}\n",
        "\n",
        "# Map the English test inputs to their corresponding sentences\n",
        "english_sentences = []\n",
        "for sample in x_test_subset:\n",
        "    sentence = ' '.join([rev_tok_english.get(token, '<unknown>') for token in sample if token != 0])  # Exclude padding token\n",
        "    english_sentences.append(sentence)\n",
        "\n",
        "# Print English sentence followed by predicted Hindi sentence\n",
        "for idx, (eng_sentence, hin_sentence) in enumerate(zip(english_sentences, predicted_sentences)):\n",
        "    print(f'English sentence {idx + 1}: {eng_sentence}')\n",
        "    print(f'Predicted Hindi translation {idx + 1}: {hin_sentence}\\n')\n"
      ],
      "metadata": {
        "execution": {
          "iopub.status.busy": "2024-09-19T09:01:14.034653Z",
          "iopub.execute_input": "2024-09-19T09:01:14.035418Z",
          "iopub.status.idle": "2024-09-19T09:01:14.680621Z",
          "shell.execute_reply.started": "2024-09-19T09:01:14.035388Z",
          "shell.execute_reply": "2024-09-19T09:01:14.679607Z"
        },
        "trusted": true,
        "id": "FSlHvn7h-Mjr"
      },
      "execution_count": null,
      "outputs": []
    },
    {
      "cell_type": "markdown",
      "source": [
        "<a id='5.7'></a>\n",
        "### **5.7. Saving the best weight**"
      ],
      "metadata": {
        "id": "2xdKKl6G-Mjr"
      }
    },
    {
      "cell_type": "code",
      "source": [
        "# Save the entire model\n",
        "model.save('encoder_decoder_model.h5')\n",
        "print('Model saved succesfully!!')"
      ],
      "metadata": {
        "execution": {
          "iopub.status.busy": "2024-09-19T09:23:36.515706Z",
          "iopub.execute_input": "2024-09-19T09:23:36.516089Z",
          "iopub.status.idle": "2024-09-19T09:23:36.807806Z",
          "shell.execute_reply.started": "2024-09-19T09:23:36.51606Z",
          "shell.execute_reply": "2024-09-19T09:23:36.806924Z"
        },
        "trusted": true,
        "id": "isVKCVzj-Mjr"
      },
      "execution_count": null,
      "outputs": []
    }
  ]
}